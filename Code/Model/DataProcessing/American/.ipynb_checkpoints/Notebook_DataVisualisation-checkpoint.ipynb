{
 "cells": [
  {
   "cell_type": "code",
   "execution_count": 1,
   "metadata": {
    "collapsed": false
   },
   "outputs": [],
   "source": [
    "from DataParser import DataParser\n",
    "from DataProcessing import DataProcessing\n",
    "from FeatureExtractionSecond import FeatureExtractionSecond\n",
    "\n",
    "import pandas as pd\n",
    "import numpy as np\n",
    "import matplotlib.pyplot as plt\n",
    "%matplotlib inline\n",
    "import seaborn as sns\n",
    "import sys\n"
   ]
  },
  {
   "cell_type": "code",
   "execution_count": 2,
   "metadata": {
    "collapsed": false
   },
   "outputs": [],
   "source": [
    "pd.set_option('display.max_rows', 2000)"
   ]
  },
  {
   "cell_type": "code",
   "execution_count": 3,
   "metadata": {
    "collapsed": false
   },
   "outputs": [],
   "source": [
    "def Get_Sample_Data():\n",
    "    df = DataParser().AmericanCombo_i(-1)\n",
    "    return df\n",
    "\n",
    "df = Get_Sample_Data()"
   ]
  },
  {
   "cell_type": "code",
   "execution_count": 4,
   "metadata": {
    "collapsed": false,
    "scrolled": true
   },
   "outputs": [
    {
     "name": "stdout",
     "output_type": "stream",
     "text": [
      "('1999', 'Q1')\n",
      "('2000', 'Q4')\n",
      "51\n",
      "           id_loan  svcg_cycle  st  occr_paid_off_per_state\n",
      "3028  F199Q1000079      200404  CA                      218\n",
      "3027  F199Q1000079      200403  CA                      218\n",
      "3026  F199Q1000079      200402  CA                      218\n",
      "3025  F199Q1000079      200401  CA                      218\n",
      "3024  F199Q1000079      200312  CA                      218\n",
      "3023  F199Q1000079      200311  CA                      218\n",
      "3022  F199Q1000079      200310  CA                      218\n",
      "1136  F199Q1000029      200309  CA                      218\n",
      "1135  F199Q1000029      200308  CA                      218\n",
      "1134  F199Q1000029      200307  CA                      218\n",
      "1133  F199Q1000029      200306  CA                      218\n",
      "1132  F199Q1000029      200305  CA                      218\n",
      "1131  F199Q1000029      200304  CA                      218\n",
      "1130  F199Q1000029      200303  CA                      218\n",
      "3014  F199Q1000079      200302  CA                      218\n",
      "3013  F199Q1000079      200301  CA                      218\n",
      "3012  F199Q1000079      200212  CA                      218\n",
      "3011  F199Q1000079      200211  CA                      218\n",
      "3010  F199Q1000079      200210  CA                      218\n",
      "3009  F199Q1000079      200209  CA                      218\n",
      "3008  F199Q1000079      200208  CA                      218\n",
      "3007  F199Q1000079      200207  CA                      218\n",
      "3006  F199Q1000079      200206  CA                      218\n",
      "3005  F199Q1000079      200205  CA                      218\n",
      "3004  F199Q1000079      200204  CA                      218\n",
      "3003  F199Q1000079      200203  CA                      218\n",
      "3002  F199Q1000079      200202  CA                      218\n",
      "3001  F199Q1000079      200201  CA                      218\n",
      "1633  F199Q1000042      200112  CA                      218\n",
      "1632  F199Q1000042      200111  CA                        0\n",
      "1631  F199Q1000042      200110  CA                        0\n",
      "1630  F199Q1000042      200109  CA                        0\n",
      "1629  F199Q1000042      200108  CA                        0\n",
      "1628  F199Q1000042      200107  CA                        0\n",
      "1627  F199Q1000042      200106  CA                        0\n",
      "1626  F199Q1000042      200105  CA                        0\n",
      "1625  F199Q1000042      200104  CA                        0\n",
      "1624  F199Q1000042      200103  CA                        0\n",
      "1623  F199Q1000042      200102  CA                        0\n",
      "1622  F199Q1000042      200101  CA                        0\n",
      "1621  F199Q1000042      200012  CA                        0\n",
      "1620  F199Q1000042      200011  CA                        0\n",
      "1619  F199Q1000042      200010  CA                        0\n",
      "1618  F199Q1000042      200009  CA                        0\n",
      "1617  F199Q1000042      200008  CA                        0\n",
      "1616  F199Q1000042      200007  CA                        0\n",
      "1615  F199Q1000042      200006  CA                        0\n",
      "1614  F199Q1000042      200005  CA                        0\n",
      "1613  F199Q1000042      200004  CA                        0\n",
      "1612  F199Q1000042      200003  CA                        0\n",
      "1611  F199Q1000042      200002  CA                        0\n",
      "1610  F199Q1000042      200001  CA                        0\n",
      "1609  F199Q1000042      199912  CA                        0\n",
      "1608  F199Q1000042      199911  CA                        0\n",
      "1607  F199Q1000042      199910  CA                        0\n",
      "1606  F199Q1000042      199909  CA                        0\n",
      "1605  F199Q1000042      199908  CA                        0\n",
      "1604  F199Q1000042      199907  CA                        0\n",
      "1603  F199Q1000042      199906  CA                        0\n",
      "1602  F199Q1000042      199905  CA                        0\n",
      "1668  F199Q1000044      199904  CA                        0\n",
      "1667  F199Q1000044      199903  CA                        0\n",
      "2237  F199Q1000062      199902  CA                        0\n"
     ]
    }
   ],
   "source": [
    "def print_me(df_IN):\n",
    "    df_A = df_IN.loc[df_IN['st'] == 'CA']\n",
    "    print len(df_A['id_loan'].unique())\n",
    "    df_A = df_A.drop_duplicates(subset='svcg_cycle')\n",
    "    df_A = df_A.sort_values(['st', 'svcg_cycle', 'occr_loans_per_state'], ascending=[False, False, False])\n",
    "    print df_A[['id_loan', 'svcg_cycle','st', 'occr_paid_off_per_state']]\n",
    "    \n",
    "    \n",
    "df_X = DataParser().AmericanCombo_i(0)\n",
    "df_Y = DataParser().AmericanCombo_i(7)\n",
    "\n",
    "\n",
    "print_me(df_X)\n"
   ]
  }
 ],
 "metadata": {
  "kernelspec": {
   "display_name": "Python 2",
   "language": "python",
   "name": "python2"
  },
  "language_info": {
   "codemirror_mode": {
    "name": "ipython",
    "version": 2
   },
   "file_extension": ".py",
   "mimetype": "text/x-python",
   "name": "python",
   "nbconvert_exporter": "python",
   "pygments_lexer": "ipython2",
   "version": "2.7.13"
  }
 },
 "nbformat": 4,
 "nbformat_minor": 0
}
