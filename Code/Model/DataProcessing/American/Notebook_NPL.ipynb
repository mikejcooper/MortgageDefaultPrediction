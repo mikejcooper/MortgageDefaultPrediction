{
 "cells": [
  {
   "cell_type": "code",
   "execution_count": 1,
   "metadata": {
    "collapsed": false
   },
   "outputs": [],
   "source": [
    "import pandas as pd\n",
    "import numpy as np\n",
    "import seaborn as sns\n",
    "import sys\n",
    "import plotly.graph_objs as go\n",
    "import plotly.plotly as py"
   ]
  },
  {
   "cell_type": "code",
   "execution_count": 2,
   "metadata": {
    "collapsed": false
   },
   "outputs": [],
   "source": [
    "pd.set_option('display.max_rows', 2000)"
   ]
  },
  {
   "cell_type": "markdown",
   "metadata": {},
   "source": [
    "# Non-Performing Loans"
   ]
  },
  {
   "cell_type": "markdown",
   "metadata": {},
   "source": [
    "#### Read data"
   ]
  },
  {
   "cell_type": "code",
   "execution_count": 3,
   "metadata": {
    "collapsed": false
   },
   "outputs": [],
   "source": [
    "_HDFStore = pd.HDFStore(\"npl_loans_subset.h5\")\n",
    "df_np = _HDFStore['df']\n",
    "_HDFStore.close()"
   ]
  },
  {
   "cell_type": "markdown",
   "metadata": {},
   "source": [
    "#### View features"
   ]
  },
  {
   "cell_type": "code",
   "execution_count": 4,
   "metadata": {
    "collapsed": false
   },
   "outputs": [
    {
     "data": {
      "text/plain": [
       "array(['svcg_cycle', 'st', 'occr_default_per_state',\n",
       "       'occr_default_per_state_12_mon', 'occr_paid_off_per_state',\n",
       "       'occr_paid_off_per_state_12_mon', 'new_loans_per_state_12_mon',\n",
       "       'active_loans_per_state', 'new_loans_per_state', 'zipcode',\n",
       "       'occr_default_per_zipcode', 'occr_default_per_zipcode_12_mon',\n",
       "       'occr_paid_off_per_zipcode', 'occr_paid_off_per_zipcode_12_mon',\n",
       "       'new_loans_per_zipcode_12_mon', 'active_loans_per_zipcode',\n",
       "       'new_loans_per_zipcode', 'nat_int_rt', 'unemploy_rt',\n",
       "       'hous_prc_indx_st', 'label_good_bad_loan', 'id_loan',\n",
       "       'label_month_final', 'fico', 'dt_first_pi', 'flag_fthb', 'dt_matr',\n",
       "       'cd_msa', 'mi_pct', 'cnt_units', 'occpy_sts', 'cltv', 'dti',\n",
       "       'orig_upb', 'ltv', 'int_rt', 'channel', 'ppmt_pnlty', 'prod_type',\n",
       "       'prop_type', 'loan_purpose', 'orig_loan_term', 'cnt_borr',\n",
       "       'flag_sc', 'current_upb', 'delq_sts', 'loan_age', 'mths_remng',\n",
       "       'repch_flag', 'flag_mod', 'cd_zero_bal', 'dt_zero_bal',\n",
       "       'current_int_rt', 'non_int_brng_upb', 'dt_lst_pi', 'mi_recoveries',\n",
       "       'net_sale_proceeds', 'non_mi_recoveries', 'expenses',\n",
       "       'legal_costs', 'maint_pres_costs', 'taxes_ins_costs', 'misc_costs',\n",
       "       'actual_loss', 'modcost', 'status_month_0', 'label_month_1',\n",
       "       'label_month_2', 'label_month_3', 'label_month_4', 'label_month_5',\n",
       "       'label_month_6', 'label_month_7', 'label_month_8', 'label_month_9',\n",
       "       'label_month_10', 'label_month_11', 'label_month_12',\n",
       "       'label_month_13', 'label_month_14', 'label_month_15',\n",
       "       'label_month_16', 'label_month_17', 'label_month_18',\n",
       "       'time_since_origin', 'pct_change', 'crt_minus_nat_int_rt',\n",
       "       'occr_crt_less_than_nat_int_rate', 'label_prepaid_ratio',\n",
       "       'occr_curr_12_mon', 'occr_curr', 'occr_30dd_12_mon', 'occr_30dd',\n",
       "       'occr_60dd_12_mon', 'occr_60dd', 'occr_90dd_12_mon', 'occr_90dd',\n",
       "       'occr_foreclosed_12_mon', 'occr_foreclosed', 'ones', 'small',\n",
       "       'rt_default_per_zipcode', 'rt_default_per_zipcode_12_mon',\n",
       "       'rt_default_per_state', 'rt_default_per_state_12_mon', 'occr_new',\n",
       "       'occr_active'], dtype=object)"
      ]
     },
     "execution_count": 4,
     "metadata": {},
     "output_type": "execute_result"
    }
   ],
   "source": [
    "df_np.columns.values"
   ]
  },
  {
   "cell_type": "markdown",
   "metadata": {},
   "source": [
    "#### Print general information"
   ]
  },
  {
   "cell_type": "code",
   "execution_count": 5,
   "metadata": {
    "collapsed": false
   },
   "outputs": [
    {
     "name": "stdout",
     "output_type": "stream",
     "text": [
      "FICO_MEDIAN: 670\n",
      "FICO_MEAN: 670\n",
      "LOAN_COUNT: 398\n",
      "ORIGINAL_BALANCE_MEAN: $137098\n",
      "LOAN_LENGTH_MEAN (months): 21\n",
      "Number of Default Loans :83\n",
      "Number of Fully Paid Loans :315\n"
     ]
    }
   ],
   "source": [
    "LOAN_COUNT = len(np.unique(df_np['id_loan'].values))\n",
    "FICO_MEAN = df_np['fico'].mean()\n",
    "BALANCE_MEAN = df_np['orig_upb'].mean()\n",
    "FICO_MEDIAN = df_np['fico'].median()\n",
    "FICO_MEDIAN = df_np['fico'].median()\n",
    "LOAN_LENGTH_MEAN = df_np.groupby(['id_loan']).size().mean()\n",
    "DEFAULT_LOANS_COUNT = len(df_np.loc[df_np['label_good_bad_loan'] == 0]['id_loan'].unique())\n",
    "FULLY_PAID_LOANS_COUNT = len(df_np.loc[df_np['label_good_bad_loan'] == 1]['id_loan'].unique())\n",
    "\n",
    "print \"FICO_MEDIAN: \" + str(int(FICO_MEDIAN))\n",
    "print \"FICO_MEAN: \" + str(int(FICO_MEAN))\n",
    "print \"LOAN_COUNT: \" + str(int(LOAN_COUNT))\n",
    "print \"ORIGINAL_BALANCE_MEAN: $\" + str(int(BALANCE_MEAN))\n",
    "print \"LOAN_LENGTH_MEAN (months): \" + str(int(LOAN_LENGTH_MEAN))\n",
    "print \"Number of Default Loans :\" + str(int(DEFAULT_LOANS_COUNT))\n",
    "print \"Number of Fully Paid Loans :\" + str(int(FULLY_PAID_LOANS_COUNT))\n"
   ]
  },
  {
   "cell_type": "markdown",
   "metadata": {},
   "source": [
    "#### Prepare Data for graphs"
   ]
  },
  {
   "cell_type": "code",
   "execution_count": 6,
   "metadata": {
    "collapsed": false
   },
   "outputs": [],
   "source": [
    "def st_names():\n",
    "    return pd.read_table(\"st_names.csv\", sep=',', names=['st', 'st_name'])\n",
    "\n",
    "def fill_dataframe_to_st(df_IN):\n",
    "    df_st_names = st_names()\n",
    "    df_filled = pd.merge(df_st_names, df_IN, on='st', how='outer')\n",
    "    for col in df_filled.columns.values:\n",
    "        df_filled[col] = df_filled[col].fillna(0)\n",
    "    return df_filled\n",
    "\n",
    "#  Calculate number of npls per state \n",
    "df_st_count = df_np.drop_duplicates(subset=['id_loan']).groupby(['st']).size().to_frame()\n",
    "df_st_count.reset_index(level=0, inplace=True)\n",
    "df_st_count.columns = ['st', 'st_loan_count']\n",
    "df_np = pd.merge(df_np, df_st_count, on='st', how='left')\n",
    "df_np['st_loan_count']= df_np['st_loan_count'].fillna(0)\n",
    "\n",
    "df_st = df_np.sort_values(['st_loan_count'], ascending=[False])\n",
    "df_st = df_st.drop_duplicates(subset=['st'], keep='first')\n",
    "df_st = df_st.loc[df_st['st'] != 'PR']\n",
    "df_st = fill_dataframe_to_st(df_st)\n",
    "df_st = df_st.sort_values(['st_loan_count'], ascending=[True])\n",
    "\n",
    "st_col = df_st['st'].values\n",
    "occr_loans_per_state_col = df_st['st_loan_count'].values\n"
   ]
  },
  {
   "cell_type": "code",
   "execution_count": 7,
   "metadata": {
    "collapsed": false
   },
   "outputs": [
    {
     "data": {
      "text/html": [
       "<iframe id=\"igraph\" scrolling=\"no\" style=\"border:none;\" seamless=\"seamless\" src=\"https://plot.ly/~mikejcooper/10.embed\" height=\"525px\" width=\"100%\"></iframe>"
      ],
      "text/plain": [
       "<plotly.tools.PlotlyDisplay object>"
      ]
     },
     "execution_count": 7,
     "metadata": {},
     "output_type": "execute_result"
    }
   ],
   "source": [
    "df = df_st[['st', 'st_name', 'st_loan_count', 'rt_default_per_state']]\n",
    "df = df.rename(columns={'st': 'code'})\n",
    "\n",
    "for col in df.columns:\n",
    "    df[col] = df[col].astype(str)\n",
    "\n",
    "scl = [[0.0, 'rgb(242,240,247)'],[0.2, 'rgb(218,218,235)'],[0.4, 'rgb(188,189,220)'],\\\n",
    "            [0.6, 'rgb(158,154,200)'],[0.8, 'rgb(117,107,177)'],[1.0, 'rgb(84,39,143)']]\n",
    "\n",
    "df['text'] = df['st_name'] + '<br>' + 'Default Rate : ' + df['rt_default_per_state'].astype(float).round(4).astype(str)\n",
    "\n",
    "data = [ dict(\n",
    "        type='choropleth',\n",
    "        colorscale = scl,\n",
    "        autocolorscale = False,\n",
    "        locations = df['code'],\n",
    "        z = df['st_loan_count'].astype(float),\n",
    "        locationmode = 'USA-states',\n",
    "        text = df['text'],\n",
    "        marker = dict(\n",
    "            line = dict (\n",
    "                color = 'rgb(255,255,255)',\n",
    "                width = 2\n",
    "            ) ),\n",
    "        colorbar = dict(\n",
    "            title = \"#\")\n",
    "        ) ]\n",
    "\n",
    "layout = dict(\n",
    "        title = 'Number of Loans by State<br>(Hover for breakdown)',\n",
    "        geo = dict(\n",
    "            scope='usa',\n",
    "            projection=dict( type='albers usa' ),\n",
    "            showlakes = True,\n",
    "            lakecolor = 'rgb(255, 255, 255)'),\n",
    "             )\n",
    "    \n",
    "fig = dict( data=data, layout=layout )\n",
    "py.iplot( fig, filename='d3-cloropleth-map' )"
   ]
  },
  {
   "cell_type": "code",
   "execution_count": 8,
   "metadata": {
    "collapsed": false
   },
   "outputs": [
    {
     "data": {
      "text/html": [
       "<iframe id=\"igraph\" scrolling=\"no\" style=\"border:none;\" seamless=\"seamless\" src=\"https://plot.ly/~mikejcooper/16.embed\" height=\"1000px\" width=\"500px\"></iframe>"
      ],
      "text/plain": [
       "<plotly.tools.PlotlyDisplay object>"
      ]
     },
     "execution_count": 8,
     "metadata": {},
     "output_type": "execute_result"
    }
   ],
   "source": [
    "trace1 = go.Bar(\n",
    "    x=df_st['st_loan_count'].values,\n",
    "    y=df_st['st'].values,\n",
    "    name='st_loan_count',\n",
    "    orientation = 'h',\n",
    ")\n",
    "data = [trace1]\n",
    "layout = go.Layout(\n",
    "    autosize=False,\n",
    "    width=500,\n",
    "    height=1000,\n",
    "    barmode='stack'\n",
    ")\n",
    "\n",
    "fig = go.Figure(data=data, layout=layout)\n",
    "py.iplot(fig, filename='horizontal-stacked-bar')"
   ]
  }
 ],
 "metadata": {
  "kernelspec": {
   "display_name": "Python 2",
   "language": "python",
   "name": "python2"
  },
  "language_info": {
   "codemirror_mode": {
    "name": "ipython",
    "version": 2
   },
   "file_extension": ".py",
   "mimetype": "text/x-python",
   "name": "python",
   "nbconvert_exporter": "python",
   "pygments_lexer": "ipython2",
   "version": "2.7.13"
  }
 },
 "nbformat": 4,
 "nbformat_minor": 0
}
