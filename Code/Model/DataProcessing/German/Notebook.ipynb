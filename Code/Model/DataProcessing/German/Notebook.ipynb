{
 "cells": [
  {
   "cell_type": "code",
   "execution_count": 3,
   "metadata": {
    "collapsed": false
   },
   "outputs": [],
   "source": [
    "from DataParser import DataParser\n",
    "from DataProcessing import DataProcessing\n",
    "import pandas as pd\n",
    "import numpy as np\n",
    "import matplotlib.pyplot as plt\n",
    "%matplotlib inline\n",
    "import seaborn as sns\n",
    "import sys"
   ]
  },
  {
   "cell_type": "markdown",
   "metadata": {},
   "source": [
    "# Data"
   ]
  },
  {
   "cell_type": "code",
   "execution_count": 29,
   "metadata": {
    "collapsed": false
   },
   "outputs": [
    {
     "name": "stdout",
     "output_type": "stream",
     "text": [
      "['A11' 'A12' 'A14' 'A11' 'A11' 'A14' 'A14' 'A12' 'A14' 'A12' 'A12' 'A11'\n",
      " 'A12' 'A11' 'A11' 'A11' 'A14' 'A11' 'A12' 'A14' 'A14' 'A11' 'A11' 'A12'\n",
      " 'A14' 'A11' 'A14' 'A13' 'A12' 'A11' 'A12' 'A11' 'A12' 'A14' 'A13' 'A12'\n",
      " 'A14' 'A13' 'A13' 'A12' 'A14' 'A12' 'A12' 'A11' 'A11' 'A14' 'A14' 'A11'\n",
      " 'A14' 'A14' 'A12' 'A12' 'A14' 'A14' 'A12' 'A14' 'A12' 'A14' 'A13' 'A11'\n",
      " 'A12' 'A12' 'A12' 'A12' 'A14' 'A14' 'A14' 'A12' 'A14' 'A14' 'A14' 'A14'\n",
      " 'A11' 'A12' 'A11' 'A11' 'A11' 'A12' 'A14' 'A12' 'A14' 'A14' 'A14' 'A11'\n",
      " 'A11' 'A14' 'A12' 'A12' 'A11' 'A11' 'A14' 'A11' 'A14' 'A13' 'A12' 'A12'\n",
      " 'A14' 'A12' 'A12' 'A12' 'A14' 'A12' 'A14' 'A12' 'A14' 'A12' 'A14' 'A12'\n",
      " 'A11' 'A12' 'A12' 'A13' 'A12' 'A14' 'A11' 'A14' 'A11' 'A11' 'A11' 'A12'\n",
      " 'A11' 'A14' 'A14' 'A13' 'A12' 'A11' 'A11' 'A12' 'A12' 'A11' 'A12' 'A11'\n",
      " 'A14' 'A14' 'A14' 'A14' 'A14' 'A12' 'A12' 'A13' 'A13' 'A12' 'A11' 'A11'\n",
      " 'A14' 'A12' 'A11' 'A14' 'A11' 'A14' 'A14' 'A14' 'A13' 'A12' 'A12' 'A11'\n",
      " 'A11' 'A11' 'A12' 'A14' 'A14' 'A14' 'A14' 'A12' 'A14' 'A14' 'A11' 'A12'\n",
      " 'A14' 'A12' 'A11' 'A14' 'A12' 'A12' 'A11' 'A14' 'A11' 'A11' 'A14' 'A11'\n",
      " 'A14' 'A12' 'A11' 'A14' 'A12' 'A14' 'A12' 'A12' 'A11' 'A12' 'A14' 'A12'\n",
      " 'A12' 'A14' 'A12' 'A12' 'A14' 'A12' 'A12' 'A12' 'A14' 'A11' 'A14' 'A11'\n",
      " 'A14' 'A11' 'A14' 'A12' 'A11' 'A14' 'A14' 'A14' 'A11' 'A13' 'A14' 'A12'\n",
      " 'A11' 'A13' 'A11' 'A14' 'A12' 'A11' 'A14' 'A14' 'A14' 'A14' 'A12' 'A11'\n",
      " 'A14' 'A11' 'A13' 'A14' 'A14' 'A12' 'A14' 'A11' 'A12' 'A12' 'A14' 'A11'\n",
      " 'A11' 'A14' 'A11' 'A14' 'A14' 'A14' 'A14' 'A14' 'A13' 'A14' 'A11' 'A13'\n",
      " 'A12' 'A14' 'A12' 'A12' 'A14' 'A11' 'A14' 'A14' 'A11' 'A11' 'A11' 'A14'\n",
      " 'A14' 'A12' 'A14' 'A14' 'A11' 'A14' 'A14' 'A14' 'A12' 'A12' 'A11' 'A14'\n",
      " 'A14' 'A11' 'A14' 'A14' 'A14' 'A14' 'A13' 'A14' 'A12' 'A11' 'A11' 'A12'\n",
      " 'A12' 'A11' 'A14' 'A12' 'A11' 'A13' 'A14' 'A12' 'A14' 'A14' 'A14' 'A12'\n",
      " 'A14' 'A12' 'A13' 'A11' 'A14' 'A14' 'A14' 'A11' 'A12' 'A12' 'A12' 'A14'\n",
      " 'A13' 'A12' 'A13' 'A11' 'A11' 'A12' 'A14' 'A11' 'A12' 'A11' 'A11' 'A11'\n",
      " 'A14' 'A11' 'A14' 'A14' 'A13' 'A12' 'A11' 'A14' 'A12' 'A14' 'A11' 'A11'\n",
      " 'A12' 'A11' 'A11' 'A12' 'A12' 'A11' 'A12' 'A12' 'A13' 'A14' 'A12' 'A12'\n",
      " 'A14' 'A12' 'A14' 'A12' 'A14' 'A11' 'A14' 'A12' 'A14' 'A14' 'A14' 'A11'\n",
      " 'A12' 'A13' 'A13' 'A14' 'A11' 'A14' 'A14' 'A11' 'A11' 'A12' 'A14' 'A14'\n",
      " 'A14' 'A14' 'A12' 'A11' 'A14' 'A14' 'A12' 'A14' 'A11' 'A12' 'A14' 'A13'\n",
      " 'A14' 'A14' 'A14' 'A12' 'A12' 'A14' 'A14' 'A12' 'A11' 'A11' 'A14' 'A12'\n",
      " 'A11' 'A11' 'A12' 'A14' 'A14' 'A12' 'A14' 'A14' 'A12' 'A12' 'A14' 'A11'\n",
      " 'A14' 'A13' 'A12' 'A14' 'A14' 'A14' 'A11' 'A14' 'A11' 'A11' 'A14' 'A12'\n",
      " 'A14' 'A12' 'A12' 'A14' 'A12' 'A12' 'A14' 'A14' 'A14' 'A11' 'A14' 'A12'\n",
      " 'A11' 'A14' 'A11' 'A12' 'A14' 'A14' 'A11' 'A13' 'A14' 'A11' 'A12' 'A14'\n",
      " 'A12' 'A14' 'A11' 'A12' 'A13' 'A12' 'A14' 'A14' 'A14' 'A14' 'A11' 'A14'\n",
      " 'A11' 'A11' 'A11' 'A14' 'A11' 'A11' 'A12' 'A12' 'A14' 'A11' 'A11' 'A14'\n",
      " 'A14' 'A14' 'A12' 'A11' 'A11' 'A14' 'A12' 'A11' 'A14' 'A13' 'A12' 'A11'\n",
      " 'A12' 'A12' 'A11' 'A14' 'A14' 'A12' 'A14' 'A14' 'A14' 'A14' 'A14' 'A12'\n",
      " 'A14' 'A12' 'A11' 'A11' 'A12' 'A14' 'A12' 'A13' 'A11' 'A11' 'A13' 'A12'\n",
      " 'A11' 'A14' 'A13' 'A12' 'A14' 'A14' 'A11' 'A14' 'A13' 'A12' 'A14' 'A11'\n",
      " 'A11' 'A14' 'A11' 'A14' 'A14' 'A11' 'A11' 'A14' 'A12' 'A12' 'A14' 'A14'\n",
      " 'A11' 'A11' 'A12' 'A12' 'A14' 'A14' 'A14' 'A13' 'A11' 'A12' 'A11' 'A13'\n",
      " 'A12' 'A14' 'A11' 'A13' 'A14' 'A11' 'A14' 'A14' 'A11' 'A14' 'A14' 'A14'\n",
      " 'A11' 'A12' 'A12' 'A12' 'A12' 'A14' 'A11' 'A12' 'A11' 'A11' 'A13' 'A12'\n",
      " 'A12' 'A12' 'A11' 'A14' 'A12' 'A11' 'A11' 'A14' 'A14' 'A11' 'A12' 'A14'\n",
      " 'A12' 'A14' 'A12' 'A14' 'A12' 'A12' 'A14' 'A12' 'A14' 'A11' 'A11' 'A11'\n",
      " 'A11' 'A11' 'A11' 'A12' 'A14' 'A12' 'A11' 'A12' 'A11' 'A12' 'A14' 'A14'\n",
      " 'A12' 'A12' 'A12' 'A14' 'A13' 'A11' 'A14' 'A12' 'A14' 'A14' 'A11' 'A13'\n",
      " 'A11' 'A11' 'A14' 'A12' 'A12' 'A11' 'A12' 'A14' 'A12' 'A14' 'A14' 'A11'\n",
      " 'A11' 'A14' 'A13' 'A12' 'A14' 'A14' 'A11' 'A11' 'A12' 'A14' 'A12' 'A14'\n",
      " 'A14' 'A14' 'A14' 'A11' 'A11' 'A12' 'A14' 'A14' 'A11' 'A14' 'A11' 'A14'\n",
      " 'A13' 'A11' 'A11' 'A12' 'A11' 'A12' 'A14' 'A11' 'A12' 'A14' 'A12' 'A12'\n",
      " 'A13' 'A11' 'A14' 'A12' 'A13' 'A14' 'A12' 'A14' 'A11' 'A13' 'A14' 'A14'\n",
      " 'A14' 'A14' 'A14' 'A14' 'A14' 'A12' 'A11' 'A14' 'A14' 'A14' 'A14' 'A14'\n",
      " 'A12' 'A14' 'A13' 'A12' 'A14' 'A11' 'A11' 'A12' 'A12' 'A11' 'A14' 'A14'\n",
      " 'A12' 'A14' 'A14' 'A13' 'A14' 'A11' 'A13' 'A12' 'A12' 'A14' 'A12' 'A12'\n",
      " 'A12' 'A12' 'A14' 'A11' 'A14' 'A11' 'A12' 'A14' 'A14' 'A14' 'A13' 'A12'\n",
      " 'A13' 'A12' 'A11' 'A12' 'A14' 'A14' 'A14' 'A11' 'A12' 'A13' 'A12' 'A11'\n",
      " 'A12' 'A14' 'A14' 'A12' 'A12' 'A11' 'A14' 'A12' 'A11' 'A12' 'A14' 'A11'\n",
      " 'A11' 'A11' 'A11' 'A11' 'A14' 'A14' 'A11' 'A11' 'A12' 'A14' 'A14' 'A11'\n",
      " 'A13' 'A13' 'A14' 'A11' 'A14' 'A11' 'A11' 'A14' 'A14' 'A12' 'A11' 'A14'\n",
      " 'A12' 'A14' 'A11' 'A11' 'A14' 'A14' 'A13' 'A11' 'A14' 'A11' 'A14' 'A12'\n",
      " 'A12' 'A14' 'A12' 'A12' 'A12' 'A12' 'A14' 'A14' 'A12' 'A11' 'A12' 'A14'\n",
      " 'A14' 'A13' 'A14' 'A14' 'A11' 'A14' 'A14' 'A12' 'A14' 'A12' 'A11' 'A14'\n",
      " 'A12' 'A11' 'A12' 'A14' 'A12' 'A12' 'A12' 'A12' 'A11' 'A11' 'A11' 'A12'\n",
      " 'A14' 'A14' 'A11' 'A11' 'A14' 'A13' 'A11' 'A11' 'A14' 'A11' 'A11' 'A14'\n",
      " 'A11' 'A12' 'A14' 'A11' 'A11' 'A12' 'A13' 'A11' 'A14' 'A14' 'A11' 'A14'\n",
      " 'A11' 'A14' 'A14' 'A14' 'A14' 'A12' 'A14' 'A14' 'A11' 'A11' 'A11' 'A14'\n",
      " 'A14' 'A11' 'A14' 'A14' 'A14' 'A14' 'A11' 'A14' 'A14' 'A14' 'A11' 'A14'\n",
      " 'A14' 'A14' 'A11' 'A14' 'A14' 'A11' 'A14' 'A13' 'A11' 'A14' 'A11' 'A12'\n",
      " 'A11' 'A14' 'A11' 'A14' 'A14' 'A14' 'A12' 'A14' 'A12' 'A11' 'A12' 'A12'\n",
      " 'A14' 'A14' 'A11' 'A14' 'A11' 'A12' 'A14' 'A14' 'A11' 'A14' 'A14' 'A11'\n",
      " 'A11' 'A14' 'A14' 'A14' 'A14' 'A11' 'A11' 'A12' 'A14' 'A12' 'A14' 'A12'\n",
      " 'A12' 'A14' 'A11' 'A12' 'A14' 'A11' 'A11' 'A11' 'A14' 'A14' 'A11' 'A12'\n",
      " 'A11' 'A11' 'A11' 'A11' 'A14' 'A11' 'A11' 'A12' 'A14' 'A14' 'A11' 'A12'\n",
      " 'A13' 'A12' 'A12' 'A14' 'A14' 'A14' 'A14' 'A14' 'A11' 'A12' 'A11' 'A14'\n",
      " 'A14' 'A14' 'A12' 'A11' 'A12' 'A14' 'A11' 'A11' 'A13' 'A12' 'A11' 'A12'\n",
      " 'A14' 'A12' 'A14' 'A14' 'A12' 'A12' 'A12' 'A14' 'A14' 'A11' 'A12' 'A14'\n",
      " 'A11' 'A11' 'A14' 'A13' 'A12' 'A12' 'A14' 'A12' 'A12' 'A14' 'A13' 'A11'\n",
      " 'A14' 'A11' 'A13' 'A14' 'A11' 'A12' 'A14' 'A14' 'A11' 'A11' 'A14' 'A14'\n",
      " 'A11' 'A14' 'A11' 'A12']\n"
     ]
    },
    {
     "data": {
      "text/plain": [
       "Status              object\n",
       "Month                int64\n",
       "Credit              object\n",
       "Purpose             object\n",
       "CreditAMT            int64\n",
       "Savings             object\n",
       "Employment          object\n",
       "Installment          int64\n",
       "SexMarital          object\n",
       "Position            object\n",
       "Residence            int64\n",
       "Property            object\n",
       "Age                  int64\n",
       "OtherInstallment    object\n",
       "Housing             object\n",
       "ExistCredits         int64\n",
       "Job                 object\n",
       "Liability            int64\n",
       "Phone               object\n",
       "Foreign             object\n",
       "Predict              int64\n",
       "dtype: object"
      ]
     },
     "execution_count": 29,
     "metadata": {},
     "output_type": "execute_result"
    }
   ],
   "source": [
    "df = DataProcessing().Dataset;\n",
    "df.dtypes"
   ]
  },
  {
   "cell_type": "code",
   "execution_count": 37,
   "metadata": {
    "collapsed": false
   },
   "outputs": [
    {
     "name": "stdout",
     "output_type": "stream",
     "text": [
      "0                    0 DM\n",
      "1                < 200 DM\n",
      "2      No checking acount\n",
      "3                    0 DM\n",
      "4                    0 DM\n",
      "5      No checking acount\n",
      "6      No checking acount\n",
      "7                < 200 DM\n",
      "8      No checking acount\n",
      "9                < 200 DM\n",
      "10               < 200 DM\n",
      "11                   0 DM\n",
      "12               < 200 DM\n",
      "13                   0 DM\n",
      "14                   0 DM\n",
      "15                   0 DM\n",
      "16     No checking acount\n",
      "17                   0 DM\n",
      "18               < 200 DM\n",
      "19     No checking acount\n",
      "20     No checking acount\n",
      "21                   0 DM\n",
      "22                   0 DM\n",
      "23               < 200 DM\n",
      "24     No checking acount\n",
      "25                   0 DM\n",
      "26     No checking acount\n",
      "27                    NaN\n",
      "28               < 200 DM\n",
      "29                   0 DM\n",
      "              ...        \n",
      "970              < 200 DM\n",
      "971    No checking acount\n",
      "972                  0 DM\n",
      "973                  0 DM\n",
      "974    No checking acount\n",
      "975                   NaN\n",
      "976              < 200 DM\n",
      "977              < 200 DM\n",
      "978    No checking acount\n",
      "979              < 200 DM\n",
      "980              < 200 DM\n",
      "981    No checking acount\n",
      "982                   NaN\n",
      "983                  0 DM\n",
      "984    No checking acount\n",
      "985                  0 DM\n",
      "986                   NaN\n",
      "987    No checking acount\n",
      "988                  0 DM\n",
      "989              < 200 DM\n",
      "990    No checking acount\n",
      "991    No checking acount\n",
      "992                  0 DM\n",
      "993                  0 DM\n",
      "994    No checking acount\n",
      "995    No checking acount\n",
      "996                  0 DM\n",
      "997    No checking acount\n",
      "998                  0 DM\n",
      "999              < 200 DM\n",
      "Name: Status, dtype: object\n"
     ]
    }
   ],
   "source": [
    "map = {\n",
    "\"A11\" : \"0 DM\", \n",
    "\"A12\" : \"< 200 DM\", \n",
    "\"A14\" : \">= 200 DM\", \n",
    "\"A14\" : \"No checking acount\",\n",
    "\"A30\" : \"no credits taken/all credits paid back duly\",\n",
    "\"A31\" : \"all credits at this bank paid back duly\",\n",
    "\"A32\" : \"existing credits paid back duly till now\",\n",
    "\"A33\" : \"delay in paying off in the past\",\n",
    "\"A34\" : \"critical account/other credits existing (not at this bank)\",\n",
    "\"A40\" : \"car (new)\",\n",
    "\"A41\" : \"car (used)\",\n",
    "\"A42\" : \"furniture/equipment\",\n",
    "\"A43\" : \"radio/television\",\n",
    "\"A44\" : \"domestic appliances\",\n",
    "\"A45\" : \"repairs\",\n",
    "\"A46\" : \"education\",\n",
    "\"A47\" : \"(vacation - does not exist?)\",\n",
    "\"A48\" : \"retraining\",\n",
    "\"A49\" : \"business\",\n",
    "\"A410\" : \"others\",\n",
    "\"A61\" : \"X < 100 DM\",\n",
    "\"A62\" : \"100 <= X <  500 DM\",\n",
    "\"A63\" : \"500 <= X < 1000 DM\",\n",
    "\"A64\" : \"X >= 1000 DM\",\n",
    "\"A65\" : \"unknown/ no savings account\",\n",
    "\"A71\" : \"unemployed\",\n",
    "\"A72\" : \"X < 1 year\",\n",
    "\"A73\" : \"1 <= X < 4 years\",\n",
    "\"A74\" : \"4 <= X < 7 years\",\n",
    "\"A75\" : \"X >= 7 years\",\n",
    "\"A91\" : \"male divorced/separated\",\n",
    "\"A92\" : \"female divorced/separated/married\",\n",
    "\"A93\" : \"male single\",\n",
    "\"A94\" : \"male married/widowed\",\n",
    "\"A95\" : \"female single\",\n",
    "\"A101\" : \"none\",\n",
    "\"A102\" : \"co-applicant\",\n",
    "\"A103\" : \"guarantor\",\n",
    "\"A121\" : \"real estate\",\n",
    "\"A122\" : \"building society savings agreement/life insurance\",\n",
    "\"A123\" : \"car or other\",\n",
    "\"A124\" : \"unknown / no property\",\n",
    "\"A141\" : \"bank\",\n",
    "\"A142\" : \"stores\",\n",
    "\"A143\" : \"none\",\n",
    "\"A151\" : \"rent\",\n",
    "\"A152\" : \"own\",\n",
    "\"A153\" : \"for free\",\n",
    "\"A171\" : \"unemployed/ unskilled  - non-resident\",\n",
    "\"A172\" : \"unskilled - resident\",\n",
    "\"A173\" : \"skilled employee / official\",\n",
    "\"A174\" : \"management/ self-employed/highly qualified employee/ officer\",\n",
    "\"A191\" : \"none\",\n",
    "\"A192\" : \"yes, registered under the customers name\",\n",
    "\"A201\" : \"yes\",\n",
    "\"A202\" : \"no\"}\n",
    "\n",
    "for column in df:\n",
    "    if not np.issubdtype(df[column].dtype, np.dtype(float).type) and not np.issubdtype(df[column].dtype, np.dtype(int).type):\n",
    "        df[column] = df[column].map(map)\n",
    "\n",
    "\n",
    "\n",
    "print(df['Status'])"
   ]
  },
  {
   "cell_type": "markdown",
   "metadata": {},
   "source": [
    "# Data Target"
   ]
  },
  {
   "cell_type": "markdown",
   "metadata": {},
   "source": [
    "Encode *loan_status* as the target for model. "
   ]
  },
  {
   "cell_type": "markdown",
   "metadata": {},
   "source": [
    "\n",
    "### Remove in-progress loans\n",
    "Remove loans that have not yet terminated from the data set as they are not be suitable for training. "
   ]
  },
  {
   "cell_type": "code",
   "execution_count": 3,
   "metadata": {
    "collapsed": false
   },
   "outputs": [
    {
     "data": {
      "text/plain": [
       "Current                                                601779\n",
       "Fully Paid                                             207723\n",
       "Charged Off                                             45248\n",
       "Late (31-120 days)                                      11591\n",
       "Issued                                                   8460\n",
       "In Grace Period                                          6253\n",
       "Late (16-30 days)                                        2357\n",
       "Does not meet the credit policy. Status:Fully Paid       1988\n",
       "Default                                                  1219\n",
       "Does not meet the credit policy. Status:Charged Off       761\n",
       "Name: loan_status, dtype: int64"
      ]
     },
     "execution_count": 3,
     "metadata": {},
     "output_type": "execute_result"
    }
   ],
   "source": [
    "df.loan_status.value_counts()"
   ]
  },
  {
   "cell_type": "code",
   "execution_count": 4,
   "metadata": {
    "collapsed": false
   },
   "outputs": [],
   "source": [
    "df = DataPreProcessing().remove_in_progress_loans(df)"
   ]
  },
  {
   "cell_type": "code",
   "execution_count": 5,
   "metadata": {
    "collapsed": false,
    "scrolled": true
   },
   "outputs": [
    {
     "data": {
      "text/plain": [
       "Fully Paid                                             207723\n",
       "Charged Off                                             45248\n",
       "Late (31-120 days)                                      11591\n",
       "Issued                                                   8460\n",
       "In Grace Period                                          6253\n",
       "Late (16-30 days)                                        2357\n",
       "Does not meet the credit policy. Status:Fully Paid       1988\n",
       "Default                                                  1219\n",
       "Does not meet the credit policy. Status:Charged Off       761\n",
       "Name: loan_status, dtype: int64"
      ]
     },
     "execution_count": 5,
     "metadata": {},
     "output_type": "execute_result"
    }
   ],
   "source": [
    "df.loan_status.value_counts()"
   ]
  },
  {
   "cell_type": "markdown",
   "metadata": {},
   "source": [
    "### Categorise loan_status\n",
    "\n",
    "Let's split the `loan_status` into 3 classes: bad, warning and safe.\n",
    "\n",
    "\n",
    "<table>\n",
    "  <tr>\n",
    "    <td>Loan Status</td>\n",
    "    <td>Class</td>\n",
    "    <td>Code</td>\n",
    "  </tr>\n",
    "  <tr>\n",
    "    <td>Fully Paid</td>\n",
    "    <td rowspan=\"2\">Safe</td>\n",
    "    <td rowspan=\"2\">2</td>\n",
    "  </tr>\n",
    "  <tr>\n",
    "    <td>Does not meet the credit policy. Status:Fully Paid</td>\n",
    "  </tr>\n",
    "  <tr>\n",
    "    <td>Late (31-120 days)</td>\n",
    "    <td rowspan=\"3\">Warning</td>\n",
    "    <td rowspan=\"3\">1</td>\n",
    "  </tr>\n",
    "  <tr>\n",
    "    <td>Late (16-30 days)</td>\n",
    "  </tr>\n",
    "  <tr>\n",
    "    <td>In Grace Period (Late (1-15 days)</td>\n",
    "  </tr>\n",
    "  <tr>\n",
    "    <td>Charged Off</td>\n",
    "    <td rowspan=\"3\">Bad</td>\n",
    "    <td rowspan=\"3\">0</td>\n",
    "  </tr>\n",
    "  <tr>\n",
    "    <td>Does not meet the credit policy. Status:Charged Off</td>\n",
    "  </tr>\n",
    "  <tr>\n",
    "    <td>Default</td>\n",
    "  </tr>\n",
    "</table>"
   ]
  },
  {
   "cell_type": "code",
   "execution_count": 6,
   "metadata": {
    "collapsed": true
   },
   "outputs": [],
   "source": [
    "df = DataPreProcessing().encode_loan_status(df)"
   ]
  },
  {
   "cell_type": "code",
   "execution_count": 7,
   "metadata": {
    "collapsed": false
   },
   "outputs": [
    {
     "data": {
      "text/plain": [
       "2    218171\n",
       "0     47228\n",
       "1     20201\n",
       "Name: loan_status_encoded, dtype: int64"
      ]
     },
     "execution_count": 7,
     "metadata": {},
     "output_type": "execute_result"
    }
   ],
   "source": [
    "df.loan_status_encoded.value_counts()"
   ]
  },
  {
   "cell_type": "code",
   "execution_count": null,
   "metadata": {
    "collapsed": true
   },
   "outputs": [],
   "source": []
  },
  {
   "cell_type": "markdown",
   "metadata": {},
   "source": [
    "# Pre-Processing "
   ]
  },
  {
   "cell_type": "markdown",
   "metadata": {},
   "source": [
    "### Remove Blanks\n",
    "\n",
    "Remove column from dataset if the number of null values is greater than X.  "
   ]
  },
  {
   "cell_type": "code",
   "execution_count": 8,
   "metadata": {
    "collapsed": false
   },
   "outputs": [],
   "source": [
    "df = DataPreProcessing().remove_null_values(df)"
   ]
  },
  {
   "cell_type": "markdown",
   "metadata": {},
   "source": [
    "### Remove Redundant Columns\n",
    "\n"
   ]
  },
  {
   "cell_type": "markdown",
   "metadata": {},
   "source": [
    "'url' = a list of invalid urls\n",
    "'"
   ]
  },
  {
   "cell_type": "code",
   "execution_count": 9,
   "metadata": {
    "collapsed": false
   },
   "outputs": [],
   "source": [
    "df = DataPreProcessing().remove_columns(df, ['url'])"
   ]
  },
  {
   "cell_type": "markdown",
   "metadata": {},
   "source": [
    "\n",
    "\n",
    "\n",
    "# Feature Engineering"
   ]
  },
  {
   "cell_type": "markdown",
   "metadata": {},
   "source": [
    "### loan_amnt \n",
    "* loan_amnt: The listed amount of the loan applied for by the borrower. If at some point in time, the credit department reduces the loan amount, then it will be reflected in this value."
   ]
  },
  {
   "cell_type": "code",
   "execution_count": 10,
   "metadata": {
    "collapsed": false
   },
   "outputs": [
    {
     "name": "stdout",
     "output_type": "stream",
     "text": [
      "hello\n"
     ]
    },
    {
     "data": {
      "image/png": "[encoded data removed]",
      "text/plain": [
       "<matplotlib.figure.Figure at 0x1578682d0>"
      ]
     },
     "metadata": {},
     "output_type": "display_data"
    }
   ],
   "source": [
    "sns.distplot(df[\"loan_amnt\"])\n",
    "plt.ylabel(\"%\")\n",
    "print \"hello\""
   ]
  },
  {
   "cell_type": "code",
   "execution_count": 11,
   "metadata": {
    "collapsed": false
   },
   "outputs": [
    {
     "data": {
      "text/plain": [
       "id                              int64\n",
       "member_id                       int64\n",
       "loan_amnt                     float64\n",
       "funded_amnt                   float64\n",
       "funded_amnt_inv               float64\n",
       "term                           object\n",
       "int_rate                      float64\n",
       "installment                   float64\n",
       "grade                          object\n",
       "sub_grade                      object\n",
       "emp_title                      object\n",
       "emp_length                     object\n",
       "home_ownership                 object\n",
       "annual_inc                    float64\n",
       "verification_status            object\n",
       "issue_d                        object\n",
       "pymnt_plan                     object\n",
       "purpose                        object\n",
       "title                          object\n",
       "zip_code                       object\n",
       "addr_state                     object\n",
       "dti                           float64\n",
       "delinq_2yrs                   float64\n",
       "earliest_cr_line               object\n",
       "inq_last_6mths                float64\n",
       "open_acc                      float64\n",
       "pub_rec                       float64\n",
       "revol_bal                     float64\n",
       "revol_util                    float64\n",
       "total_acc                     float64\n",
       "initial_list_status            object\n",
       "out_prncp                     float64\n",
       "out_prncp_inv                 float64\n",
       "total_pymnt                   float64\n",
       "total_pymnt_inv               float64\n",
       "total_rec_prncp               float64\n",
       "total_rec_int                 float64\n",
       "total_rec_late_fee            float64\n",
       "recoveries                    float64\n",
       "collection_recovery_fee       float64\n",
       "last_pymnt_d                   object\n",
       "last_pymnt_amnt               float64\n",
       "last_credit_pull_d             object\n",
       "collections_12_mths_ex_med    float64\n",
       "policy_code                   float64\n",
       "application_type               object\n",
       "acc_now_delinq                float64\n",
       "tot_coll_amt                  float64\n",
       "tot_cur_bal                   float64\n",
       "total_rev_hi_lim              float64\n",
       "loan_status_encoded             int64\n",
       "dtype: object"
      ]
     },
     "execution_count": 11,
     "metadata": {},
     "output_type": "execute_result"
    }
   ],
   "source": [
    "df.dtypes"
   ]
  },
  {
   "cell_type": "code",
   "execution_count": 12,
   "metadata": {
    "collapsed": false
   },
   "outputs": [],
   "source": [
    "df = DataPreProcessing().remove_non_numerical_cats(df)"
   ]
  },
  {
   "cell_type": "code",
   "execution_count": 13,
   "metadata": {
    "collapsed": false
   },
   "outputs": [
    {
     "data": {
      "text/plain": [
       "id                              int64\n",
       "member_id                       int64\n",
       "loan_amnt                     float64\n",
       "funded_amnt                   float64\n",
       "funded_amnt_inv               float64\n",
       "int_rate                      float64\n",
       "installment                   float64\n",
       "annual_inc                    float64\n",
       "dti                           float64\n",
       "delinq_2yrs                   float64\n",
       "inq_last_6mths                float64\n",
       "open_acc                      float64\n",
       "pub_rec                       float64\n",
       "revol_bal                     float64\n",
       "revol_util                    float64\n",
       "total_acc                     float64\n",
       "out_prncp                     float64\n",
       "out_prncp_inv                 float64\n",
       "total_pymnt                   float64\n",
       "total_pymnt_inv               float64\n",
       "total_rec_prncp               float64\n",
       "total_rec_int                 float64\n",
       "total_rec_late_fee            float64\n",
       "recoveries                    float64\n",
       "collection_recovery_fee       float64\n",
       "last_pymnt_amnt               float64\n",
       "collections_12_mths_ex_med    float64\n",
       "policy_code                   float64\n",
       "acc_now_delinq                float64\n",
       "tot_coll_amt                  float64\n",
       "tot_cur_bal                   float64\n",
       "total_rev_hi_lim              float64\n",
       "loan_status_encoded             int64\n",
       "dtype: object"
      ]
     },
     "execution_count": 13,
     "metadata": {},
     "output_type": "execute_result"
    }
   ],
   "source": [
    "df.dtypes"
   ]
  },
  {
   "cell_type": "code",
   "execution_count": null,
   "metadata": {
    "collapsed": true
   },
   "outputs": [],
   "source": []
  }
 ],
 "metadata": {
  "kernelspec": {
   "display_name": "Python 2",
   "language": "python",
   "name": "python2"
  },
  "language_info": {
   "codemirror_mode": {
    "name": "ipython",
    "version": 2
   },
   "file_extension": ".py",
   "mimetype": "text/x-python",
   "name": "python",
   "nbconvert_exporter": "python",
   "pygments_lexer": "ipython2",
   "version": "2.7.13"
  }
 },
 "nbformat": 4,
 "nbformat_minor": 0
}
